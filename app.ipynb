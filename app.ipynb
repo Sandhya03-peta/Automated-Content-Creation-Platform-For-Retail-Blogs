{
 "cells": [
  {
   "cell_type": "code",
   "execution_count": 4,
   "metadata": {},
   "outputs": [],
   "source": [
    "import feedparser\n",
    "import random\n",
    "\n",
    "def get_trending_electronics_topic():\n",
    "    # Google News RSS for Technology section (India-based, change as needed)\n",
    "    feed_url = \"https://news.google.com/rss/headlines/section/topic/TECHNOLOGY?hl=en-IN&gl=IN&ceid=IN:en\"\n",
    "    feed = feedparser.parse(feed_url)\n",
    "\n",
    "    # Electronics-related keywords\n",
    "    target_keywords = ['phone', 'smartphone', 'mobile', 'laptop', 'notebook', 'tv', 'oled', 'led']\n",
    "\n",
    "    # Filter entries based on keywords\n",
    "    electronics_topics = [\n",
    "        entry.title for entry in feed.entries\n",
    "        if any(kw in entry.title.lower() for kw in target_keywords)\n",
    "    ]\n",
    "\n",
    "    if electronics_topics:\n",
    "        return random.choice(electronics_topics)\n",
    "    else:\n",
    "        return \"Latest electronics trends and product releases in 2025\"\n"
   ]
  },
  {
   "cell_type": "code",
   "execution_count": 8,
   "metadata": {},
   "outputs": [],
   "source": [
    "from serpapi import GoogleSearch\n",
    "import random\n",
    "\n",
    "def get_news_snippets_serpapi(topic, api_key):\n",
    "    params = {\n",
    "        \"q\": topic,\n",
    "        \"tbm\": \"nws\",\n",
    "        \"location\": \"India\",\n",
    "        \"hl\": \"en\",\n",
    "        \"gl\": \"in\",\n",
    "        \"api_key\": api_key\n",
    "    }\n",
    "\n",
    "    search = GoogleSearch(params)\n",
    "    results = search.get_dict()\n",
    "    news_results = results.get(\"news_results\", [])\n",
    "\n",
    "    snippets = []\n",
    "    for article in news_results[:3]:  # Top 3 results\n",
    "        title = article.get(\"title\", \"\")\n",
    "        snippet = article.get(\"snippet\", \"\")\n",
    "        if title or snippet:\n",
    "            snippets.append(f\"{title}. {snippet}\")\n",
    "\n",
    "    return snippets\n"
   ]
  },
  {
   "cell_type": "code",
   "execution_count": 9,
   "metadata": {},
   "outputs": [
    {
     "name": "stdout",
     "output_type": "stream",
     "text": [
      "📢 Topic: Microsoft's next 50 year to focus on empowering builders, not just building tech: Satya Nadella - India TV News\n",
      "\n",
      "📰 News Snippets:\n",
      "- Microsoft's next 50 year to focus on empowering builders, not just building tech: Satya Nadella. At Microsoft's 50th anniversary, CEO Satya Nadella reflected on the company's journey from a humble software startup to a global tech leader...\n",
      "- Microsoft CEO Satya Nadella's letter to shareholders: We were founded in 1975 with a belief .... In his annual letter marking Microsoft's 50th year, CEO Satya Nadella emphasizes the company's reinvention amid the AI shift,...\n"
     ]
    }
   ],
   "source": [
    "# Step 1: Get trending electronics topic\n",
    "topic = get_trending_electronics_topic()\n",
    "\n",
    "# Step 2: Fetch news summaries using SerpAPI\n",
    "api_key = \"b536891a6304fdbabe527636fe06b2f2d1408f6d8747a6fb07a1434a5511f5f9\"\n",
    "snippets = get_news_snippets_serpapi(topic, api_key)\n",
    "\n",
    "# Step 3: Print results\n",
    "print(\"📢 Topic:\", topic)\n",
    "print(\"\\n📰 News Snippets:\")\n",
    "for s in snippets:\n",
    "    print(\"-\", s)\n"
   ]
  },
  {
   "cell_type": "code",
   "execution_count": 10,
   "metadata": {},
   "outputs": [],
   "source": [
    "groq_api_key=\"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\""
   ]
  },
  {
   "cell_type": "code",
   "execution_count": 11,
   "metadata": {},
   "outputs": [],
   "source": [
    "import requests\n",
    "\n",
    "def generate_blog_from_news_snippets(snippets, topic, groq_api_key):\n",
    "    content = \"\\n\\n\".join(snippets)\n",
    "    \n",
    "    prompt = f\"\"\"\n",
    "Write a detailed, SEO-friendly blog post about \"{topic}\" using the following information. \n",
    "Make it engaging for readers of an electronics retail blog.\n",
    "\n",
    "News Information:\n",
    "{content}\n",
    "\n",
    "Your output should include:\n",
    "- A catchy title\n",
    "- Introduction\n",
    "- Main content in 2-3 sections\n",
    "- A conclusion or CTA (call-to-action)\n",
    "\"\"\"\n",
    "\n",
    "    headers = {\n",
    "        \"Authorization\": f\"Bearer {groq_api_key}\",\n",
    "        \"Content-Type\": \"application/json\"\n",
    "    }\n",
    "\n",
    "    data = {\n",
    "        \"model\": \"llama3-70b-8192\",  # Groq supports multiple models: llama2, llama3 etc.\n",
    "        \"messages\": [\n",
    "            {\"role\": \"system\", \"content\": \"You are a helpful content writing assistant.\"},\n",
    "            {\"role\": \"user\", \"content\": prompt}\n",
    "        ]\n",
    "    }\n",
    "\n",
    "    response = requests.post(\"https://api.groq.com/openai/v1/chat/completions\", headers=headers, json=data)\n",
    "\n",
    "    if response.status_code == 200:\n",
    "        return response.json()[\"choices\"][0][\"message\"][\"content\"]\n",
    "    else:\n",
    "        print(\"❌ Error:\", response.status_code)\n",
    "        print(response.text)\n",
    "        return None\n"
   ]
  },
  {
   "cell_type": "code",
   "execution_count": 12,
   "metadata": {},
   "outputs": [
    {
     "name": "stdout",
     "output_type": "stream",
     "text": [
      "Here is a detailed, SEO-friendly blog post:\n",
      "\n",
      "**Title:** \"Empowering the Future: Microsoft's Next 50 Years to Focus on Builders, Not Just Building Tech\"\n",
      "\n",
      "**Introduction:**\n",
      "As Microsoft celebrates its 50th anniversary, CEO Satya Nadella reflects on the company's remarkable journey from a humble software startup to a global tech leader. In his annual letter to shareholders, Nadella sheds light on Microsoft's vision for the next 50 years, and it's nothing short of revolutionary. The tech giant is shifting its focus from just building innovative technology to empowering the people who use it – the builders. This bold new direction is set to have a profound impact on the electronics industry, and we're excited to dive in and explore what it means for you, our valued customers.\n",
      "\n",
      "**Section 1: A Look Back at Microsoft's Journey**\n",
      "Founded in 1975 by Bill Gates and Paul Allen, Microsoft has come a long way since its early days as a software startup. Over the years, the company has played a pivotal role in shaping the technology landscape, from introducing the Windows operating system to developing revolutionary productivity tools like Office. Today, Microsoft is a global leader in the tech industry, with a market capitalization of over $2 trillion. However, Nadella acknowledges that the company's success is not just about its technological achievements, but about the people who have been empowered by its products.\n",
      "\n",
      "**Section 2: Empowering the Builders**\n",
      "So, what does it mean to empower builders? According to Nadella, it means moving beyond just building cutting-edge technology to creating a platform that enables others to build, innovate, and solve real-world problems. In an era where artificial intelligence (AI) is transforming every aspect of our lives, Microsoft is committed to providing the tools and resources that will help developers, entrepreneurs, and innovators harness the power of AI to drive positive change. This new approach is centered around three core principles: enabling digital technology, empowering creators, and advancing AI innovation.\n",
      "\n",
      "**Section 3: What This Means for the Electronics Industry**\n",
      "So, what does Microsoft's new direction mean for the electronics industry? In short, it means that we can expect to see more innovative products and solutions that are designed to empower users, rather than just showcasing technological prowess. This shift in focus is likely to lead to more collaborative relationships between tech companies, developers, and users, ultimately driving growth and progress in the industry. As a consumer, you can expect to see more intuitive, user-friendly products that are designed to help you achieve your goals, rather than just showcasing fancy technology.\n",
      "\n",
      "**Conclusion:**\n",
      "As Microsoft embarks on its next 50-year journey, one thing is clear – the company is committed to empowering the people who will shape the future of technology. At [Your Electronics Retail Blog], we're excited to be a part of this journey and to see the innovative solutions that will emerge from this new direction. As we look to the future, we're reminded that technology is not just about building fancy gadgets, but about empowering people to make a positive impact on the world. Stay tuned for more updates on Microsoft's latest developments and how they will shape the electronics industry.\n"
     ]
    }
   ],
   "source": [
    "blog = generate_blog_from_news_snippets(snippets, topic, groq_api_key)\n",
    "print(blog)"
   ]
  },
  {
   "cell_type": "code",
   "execution_count": null,
   "metadata": {},
   "outputs": [],
   "source": []
  }
 ],
 "metadata": {
  "kernelspec": {
   "display_name": "Python 3",
   "language": "python",
   "name": "python3"
  },
  "language_info": {
   "codemirror_mode": {
    "name": "ipython",
    "version": 3
   },
   "file_extension": ".py",
   "mimetype": "text/x-python",
   "name": "python",
   "nbconvert_exporter": "python",
   "pygments_lexer": "ipython3",
   "version": "3.10.16"
  }
 },
 "nbformat": 4,
 "nbformat_minor": 2
}
